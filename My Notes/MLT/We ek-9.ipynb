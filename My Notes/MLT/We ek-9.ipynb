{
 "cells": [
  {
   "cell_type": "code",
   "execution_count": 1,
   "id": "ad6517ee",
   "metadata": {},
   "outputs": [],
   "source": [
    "import numpy as np\n",
    "import pandas as pd"
   ]
  },
  {
   "cell_type": "code",
   "execution_count": 2,
   "id": "4cdbde68",
   "metadata": {},
   "outputs": [
    {
     "data": {
      "text/plain": [
       "2.220446049250313e-16"
      ]
     },
     "execution_count": 2,
     "metadata": {},
     "output_type": "execute_result"
    }
   ],
   "source": [
    "#Used to avoid zero in the denominator\n",
    "eps = np.finfo(float).eps\n",
    "eps"
   ]
  },
  {
   "cell_type": "code",
   "execution_count": 3,
   "id": "ea034f41",
   "metadata": {},
   "outputs": [],
   "source": [
    "df = pd.DataFrame([['overcast', 'hot', 'high', 'FALSE', 'yes'],\n",
    "['overcast', 'cool', 'normal', 'TRUE', 'yes'],\n",
    "['overcast', 'mild', 'high', 'TRUE', 'yes'],\n",
    "['overcast', 'hot', 'normal', 'FALSE', 'yes'],\n",
    "['rainy', 'mild', 'high', 'FALSE', 'yes'],\n",
    "['rainy', 'cool', 'normal', 'FALSE', 'yes'],\n",
    "['rainy', 'cool', 'normal', 'TRUE', 'no'],\n",
    "['rainy', 'mild', 'normal', 'FALSE', 'yes'],\n",
    "['rainy', 'mild', 'high', 'TRUE', 'no'],\n",
    "['sunny', 'hot', 'high', 'FALSE', 'no'],\n",
    "['sunny', 'hot', 'high', 'TRUE', 'no'],\n",
    "['sunny', 'mild', 'high', 'FALSE', 'no'],\n",
    "['sunny', 'cool', 'normal', 'FALSE', 'yes'],\n",
    "['sunny', 'mild', 'normal', 'TRUE', 'yes']], columns=['outlook','temp','humidity','windy','play'])"
   ]
  },
  {
   "cell_type": "code",
   "execution_count": 4,
   "id": "9995c478",
   "metadata": {},
   "outputs": [
    {
     "data": {
      "text/plain": [
       "(14, 5)"
      ]
     },
     "execution_count": 4,
     "metadata": {},
     "output_type": "execute_result"
    }
   ],
   "source": [
    "df.shape"
   ]
  },
  {
   "cell_type": "code",
   "execution_count": 5,
   "id": "91f86ca0",
   "metadata": {},
   "outputs": [
    {
     "data": {
      "text/plain": [
       "array([['overcast', 'hot', 'high', 'FALSE', 'yes'],\n",
       "       ['overcast', 'cool', 'normal', 'TRUE', 'yes'],\n",
       "       ['overcast', 'mild', 'high', 'TRUE', 'yes'],\n",
       "       ['overcast', 'hot', 'normal', 'FALSE', 'yes'],\n",
       "       ['rainy', 'mild', 'high', 'FALSE', 'yes'],\n",
       "       ['rainy', 'cool', 'normal', 'FALSE', 'yes'],\n",
       "       ['rainy', 'cool', 'normal', 'TRUE', 'no'],\n",
       "       ['rainy', 'mild', 'normal', 'FALSE', 'yes'],\n",
       "       ['rainy', 'mild', 'high', 'TRUE', 'no'],\n",
       "       ['sunny', 'hot', 'high', 'FALSE', 'no'],\n",
       "       ['sunny', 'hot', 'high', 'TRUE', 'no'],\n",
       "       ['sunny', 'mild', 'high', 'FALSE', 'no'],\n",
       "       ['sunny', 'cool', 'normal', 'FALSE', 'yes'],\n",
       "       ['sunny', 'mild', 'normal', 'TRUE', 'yes']], dtype=object)"
      ]
     },
     "execution_count": 5,
     "metadata": {},
     "output_type": "execute_result"
    }
   ],
   "source": [
    "df.values"
   ]
  },
  {
   "cell_type": "code",
   "execution_count": 6,
   "id": "46b42497",
   "metadata": {},
   "outputs": [
    {
     "data": {
      "text/plain": [
       "0.9402859586706311"
      ]
     },
     "execution_count": 6,
     "metadata": {},
     "output_type": "execute_result"
    }
   ],
   "source": [
    "def find_entropy_whole(df):\n",
    "    target = df.keys()[-1]\n",
    "    overall_entropy = 0\n",
    "    values_in_target = df[target].unique()\n",
    "    for value in values_in_target:\n",
    "        p = df[target].value_counts()[value] / len(df[target])\n",
    "        overall_entropy += -p * np.log2(p)\n",
    "    return overall_entropy\n",
    "\n",
    "find_entropy_whole(df)"
   ]
  },
  {
   "cell_type": "code",
   "execution_count": 7,
   "id": "ed9b6840",
   "metadata": {},
   "outputs": [],
   "source": [
    "def find_entropy_of_attribute(df, attribute):\n",
    "    target = df.keys()[-1]\n",
    "    values_in_target = df[target].unique()\n",
    "    values_in_attribute = df[attribute].unique()\n",
    "    entropy_attribute = 0\n",
    "    for value_in_attribute in values_in_attribute:\n",
    "        overall_entropy = 0\n",
    "        for value_in_target in values_in_target:\n",
    "            num = len(df[attribute][df[attribute] == value_in_attribute][df[target] == value_in_target])\n",
    "            den = len(df[attribute][df[attribute] == value_in_attribute])\n",
    "            p = num / (den + eps)\n",
    "            overall_entropy += -p * np.log2(p + eps)\n",
    "        p2 = den / len(df)\n",
    "        entropy_attribute += -p2 * overall_entropy\n",
    "    return abs(entropy_attribute)"
   ]
  },
  {
   "cell_type": "code",
   "execution_count": 8,
   "id": "6dca5f8a",
   "metadata": {
    "scrolled": true
   },
   "outputs": [
    {
     "name": "stdout",
     "output_type": "stream",
     "text": [
      "Entropy of the attribute \"outlook\" is : 0.6935361388961914\n",
      "Entropy of the attribute \"temp\" is : 0.9110633930116756\n",
      "Entropy of the attribute \"humidity\" is : 0.7884504573082889\n",
      "Entropy of the attribute \"windy\" is : 0.892158928262361\n"
     ]
    }
   ],
   "source": [
    "for attribute in df.keys()[:-1]:\n",
    "    print(f'Entropy of the attribute \"{attribute}\" is :', find_entropy_of_attribute(df, attribute))"
   ]
  },
  {
   "cell_type": "code",
   "execution_count": 9,
   "id": "d0bde323",
   "metadata": {},
   "outputs": [
    {
     "data": {
      "text/plain": [
       "'outlook'"
      ]
     },
     "execution_count": 9,
     "metadata": {},
     "output_type": "execute_result"
    }
   ],
   "source": [
    "def find_best_attribute_to_divide(df):\n",
    "    IG = []\n",
    "    all_attributes = df.keys()[:-1]\n",
    "    for attribute in all_attributes:\n",
    "        IG.append(find_entropy_whole(df) - find_entropy_of_attribute(df, attribute))\n",
    "    index_of_attribute_with_max_IG = np.argmax(IG)\n",
    "    best_attribute = all_attributes[index_of_attribute_with_max_IG]\n",
    "    return best_attribute\n",
    "find_best_attribute_to_divide(df)"
   ]
  },
  {
   "cell_type": "code",
   "execution_count": 10,
   "id": "de7ae558",
   "metadata": {},
   "outputs": [
    {
     "data": {
      "text/plain": [
       "{'outlook': {'overcast': 'yes',\n",
       "  'rainy': {'windy': {'FALSE': 'yes', 'TRUE': 'no'}},\n",
       "  'sunny': {'humidity': {'high': 'no', 'normal': 'yes'}}}}"
      ]
     },
     "execution_count": 10,
     "metadata": {},
     "output_type": "execute_result"
    }
   ],
   "source": [
    "def buildTree(df, tree=None):\n",
    "    target = df.keys()[-1]\n",
    "    node = find_best_attribute_to_divide(df)\n",
    "    attValue = np.unique(df[node])\n",
    "    if tree is None:\n",
    "        tree = {}\n",
    "        tree[node] = {}\n",
    "    for value in attValue:\n",
    "        subtable = df[df[node] == value].reset_index(drop=True)\n",
    "        clValue, counts = np.unique(subtable['play'], return_counts=True)\n",
    "        if len(counts) == 1: #Checking purity of subset\n",
    "            tree[node][value] = clValue[0]\n",
    "        else:\n",
    "            tree[node][value] = buildTree(subtable) # Calling the function recusively\n",
    "    return tree\n",
    "\n",
    "buildTree(df)"
   ]
  }
 ],
 "metadata": {
  "kernelspec": {
   "display_name": "Python 3 (ipykernel)",
   "language": "python",
   "name": "python3"
  },
  "language_info": {
   "codemirror_mode": {
    "name": "ipython",
    "version": 3
   },
   "file_extension": ".py",
   "mimetype": "text/x-python",
   "name": "python",
   "nbconvert_exporter": "python",
   "pygments_lexer": "ipython3",
   "version": "3.9.7"
  }
 },
 "nbformat": 4,
 "nbformat_minor": 5
}
